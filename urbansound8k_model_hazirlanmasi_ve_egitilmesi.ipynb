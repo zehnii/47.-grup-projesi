{
 "cells": [
  {
   "cell_type": "markdown",
   "metadata": {},
   "source": [
    "# Creating Keras Model and Testing"
   ]
  },
  {
   "cell_type": "markdown",
   "metadata": {},
   "source": [
    "#### Model 1:\n",
    "\n",
    "1. CNN 2D with 64 units and tanh activation.\n",
    "2. MaxPool2D with 2*2 window.\n",
    "3. CNN 2D with 128 units and tanh activation.\n",
    "4. MaxPool2D with 2*2 window.\n",
    "5. Dropout Layer with 0.2 drop probability.\n",
    "6. DL with 1024 units and tanh activation.\n",
    "4. DL 10 units with softmax activation.\n",
    "5. Adam optimizer with categorical_crossentropy loss function.\n",
    "\n",
    "90 epochs have been used."
   ]
  },
  {
   "cell_type": "code",
   "execution_count": 20,
   "metadata": {
    "execution": {
     "iopub.execute_input": "2022-10-06T19:25:06.647800Z",
     "iopub.status.busy": "2022-10-06T19:25:06.647411Z",
     "iopub.status.idle": "2022-10-06T19:25:06.669356Z",
     "shell.execute_reply": "2022-10-06T19:25:06.668630Z",
     "shell.execute_reply.started": "2022-10-06T19:25:06.647738Z"
    }
   },
   "outputs": [],
   "source": [
    "model = Sequential()"
   ]
  },
  {
   "cell_type": "code",
   "execution_count": 21,
   "metadata": {
    "execution": {
     "iopub.execute_input": "2022-10-06T19:25:06.670674Z",
     "iopub.status.busy": "2022-10-06T19:25:06.670362Z",
     "iopub.status.idle": "2022-10-06T19:25:06.928170Z",
     "shell.execute_reply": "2022-10-06T19:25:06.927207Z",
     "shell.execute_reply.started": "2022-10-06T19:25:06.670644Z"
    }
   },
   "outputs": [],
   "source": [
    "model.add(Conv2D(64, (3, 3), padding = \"same\", activation = \"tanh\", input_shape = input_dim))\n",
    "model.add(MaxPool2D(pool_size=(2, 2)))\n",
    "model.add(Conv2D(128, (3, 3), padding = \"same\", activation = \"tanh\"))\n",
    "model.add(MaxPool2D(pool_size=(2, 2)))\n",
    "model.add(Dropout(0.1))\n",
    "model.add(Flatten())\n",
    "model.add(Dense(1024, activation = \"tanh\"))\n",
    "model.add(Dense(10, activation = \"softmax\"))"
   ]
  },
  {
   "cell_type": "code",
   "execution_count": 22,
   "metadata": {
    "execution": {
     "iopub.execute_input": "2022-10-06T19:25:06.929556Z",
     "iopub.status.busy": "2022-10-06T19:25:06.929245Z",
     "iopub.status.idle": "2022-10-06T19:25:06.972602Z",
     "shell.execute_reply": "2022-10-06T19:25:06.971068Z",
     "shell.execute_reply.started": "2022-10-06T19:25:06.929525Z"
    }
   },
   "outputs": [],
   "source": [
    "model.compile(optimizer = 'adam', loss = 'categorical_crossentropy', metrics = ['accuracy'])"
   ]
  },
  {
   "cell_type": "code",
   "execution_count": 23,
   "metadata": {
    "execution": {
     "iopub.execute_input": "2022-10-06T19:25:06.975248Z",
     "iopub.status.busy": "2022-10-06T19:25:06.974735Z",
     "iopub.status.idle": "2022-10-06T19:30:55.088119Z",
     "shell.execute_reply": "2022-10-06T19:30:55.087286Z",
     "shell.execute_reply.started": "2022-10-06T19:25:06.975179Z"
    }
   },
   "outputs": [
    {
     "name": "stdout",
     "output_type": "stream",
     "text": [
      "Train on 6549 samples, validate on 2183 samples\n",
      "Epoch 1/90\n",
      "6549/6549 [==============================] - 5s 698us/sample - loss: 1.5307 - accuracy: 0.4775 - val_loss: 1.2430 - val_accuracy: 0.5776\n",
      "Epoch 2/90\n",
      "6549/6549 [==============================] - 4s 574us/sample - loss: 1.1695 - accuracy: 0.6047 - val_loss: 1.1690 - val_accuracy: 0.5951\n",
      "Epoch 3/90\n",
      "6549/6549 [==============================] - 4s 560us/sample - loss: 0.9511 - accuracy: 0.6789 - val_loss: 1.0418 - val_accuracy: 0.6587\n",
      "Epoch 4/90\n",
      "6549/6549 [==============================] - 4s 564us/sample - loss: 0.8407 - accuracy: 0.7239 - val_loss: 0.9973 - val_accuracy: 0.6945\n",
      "Epoch 5/90\n",
      "6549/6549 [==============================] - 4s 560us/sample - loss: 0.7747 - accuracy: 0.7456 - val_loss: 0.8923 - val_accuracy: 0.7087\n",
      "Epoch 6/90\n",
      "6549/6549 [==============================] - 4s 561us/sample - loss: 0.6822 - accuracy: 0.7739 - val_loss: 0.8986 - val_accuracy: 0.7265\n",
      "Epoch 7/90\n",
      "6549/6549 [==============================] - 4s 556us/sample - loss: 0.6400 - accuracy: 0.7902 - val_loss: 0.9535 - val_accuracy: 0.7192\n",
      "Epoch 8/90\n",
      "6549/6549 [==============================] - 4s 565us/sample - loss: 0.5833 - accuracy: 0.8070 - val_loss: 0.9298 - val_accuracy: 0.7526\n",
      "Epoch 9/90\n",
      "6549/6549 [==============================] - 4s 578us/sample - loss: 0.5572 - accuracy: 0.8198 - val_loss: 0.9041 - val_accuracy: 0.7421\n",
      "Epoch 10/90\n",
      "6549/6549 [==============================] - 4s 552us/sample - loss: 0.5272 - accuracy: 0.8293 - val_loss: 0.9145 - val_accuracy: 0.7416\n",
      "Epoch 11/90\n",
      "6549/6549 [==============================] - 4s 566us/sample - loss: 0.5021 - accuracy: 0.8377 - val_loss: 0.9005 - val_accuracy: 0.7448\n",
      "Epoch 12/90\n",
      "6549/6549 [==============================] - 4s 574us/sample - loss: 0.4301 - accuracy: 0.8597 - val_loss: 0.8461 - val_accuracy: 0.7618\n",
      "Epoch 13/90\n",
      "6549/6549 [==============================] - 4s 581us/sample - loss: 0.4166 - accuracy: 0.8630 - val_loss: 0.8061 - val_accuracy: 0.7920\n",
      "Epoch 14/90\n",
      "6549/6549 [==============================] - 4s 569us/sample - loss: 0.4117 - accuracy: 0.8681 - val_loss: 0.8016 - val_accuracy: 0.7760\n",
      "Epoch 15/90\n",
      "6549/6549 [==============================] - 4s 568us/sample - loss: 0.3966 - accuracy: 0.8675 - val_loss: 0.8654 - val_accuracy: 0.7659\n",
      "Epoch 16/90\n",
      "6549/6549 [==============================] - 4s 561us/sample - loss: 0.3710 - accuracy: 0.8791 - val_loss: 0.7979 - val_accuracy: 0.7952\n",
      "Epoch 17/90\n",
      "6549/6549 [==============================] - 4s 576us/sample - loss: 0.3571 - accuracy: 0.8833 - val_loss: 0.8196 - val_accuracy: 0.7861\n",
      "Epoch 18/90\n",
      "6549/6549 [==============================] - 4s 589us/sample - loss: 0.3466 - accuracy: 0.8872 - val_loss: 0.8496 - val_accuracy: 0.7911\n",
      "Epoch 19/90\n",
      "6549/6549 [==============================] - 4s 581us/sample - loss: 0.3478 - accuracy: 0.8827 - val_loss: 0.8701 - val_accuracy: 0.7833\n",
      "Epoch 20/90\n",
      "6549/6549 [==============================] - 4s 563us/sample - loss: 0.2947 - accuracy: 0.9024 - val_loss: 0.7862 - val_accuracy: 0.8049\n",
      "Epoch 21/90\n",
      "6549/6549 [==============================] - 4s 557us/sample - loss: 0.2919 - accuracy: 0.9058 - val_loss: 0.8067 - val_accuracy: 0.7989\n",
      "Epoch 22/90\n",
      "6549/6549 [==============================] - 4s 574us/sample - loss: 0.2847 - accuracy: 0.9053 - val_loss: 0.8239 - val_accuracy: 0.8062\n",
      "Epoch 23/90\n",
      "6549/6549 [==============================] - 4s 590us/sample - loss: 0.2956 - accuracy: 0.9023 - val_loss: 0.7933 - val_accuracy: 0.8158\n",
      "Epoch 24/90\n",
      "6549/6549 [==============================] - 4s 580us/sample - loss: 0.2609 - accuracy: 0.9160 - val_loss: 0.7798 - val_accuracy: 0.8122\n",
      "Epoch 25/90\n",
      "6549/6549 [==============================] - 4s 572us/sample - loss: 0.2731 - accuracy: 0.9134 - val_loss: 0.8248 - val_accuracy: 0.8113\n",
      "Epoch 26/90\n",
      "6549/6549 [==============================] - 4s 580us/sample - loss: 0.2555 - accuracy: 0.9185 - val_loss: 0.7941 - val_accuracy: 0.8163\n",
      "Epoch 27/90\n",
      "6549/6549 [==============================] - 4s 557us/sample - loss: 0.2270 - accuracy: 0.9243 - val_loss: 0.7949 - val_accuracy: 0.8264\n",
      "Epoch 28/90\n",
      "6549/6549 [==============================] - 4s 576us/sample - loss: 0.2152 - accuracy: 0.9255 - val_loss: 0.8858 - val_accuracy: 0.8204\n",
      "Epoch 29/90\n",
      "6549/6549 [==============================] - 4s 559us/sample - loss: 0.2041 - accuracy: 0.9325 - val_loss: 0.8236 - val_accuracy: 0.8126\n",
      "Epoch 30/90\n",
      "6549/6549 [==============================] - 4s 564us/sample - loss: 0.2068 - accuracy: 0.9293 - val_loss: 0.9020 - val_accuracy: 0.8250\n",
      "Epoch 31/90\n",
      "6549/6549 [==============================] - 4s 590us/sample - loss: 0.2037 - accuracy: 0.9336 - val_loss: 0.8011 - val_accuracy: 0.8209\n",
      "Epoch 32/90\n",
      "6549/6549 [==============================] - 4s 571us/sample - loss: 0.1974 - accuracy: 0.9351 - val_loss: 0.7581 - val_accuracy: 0.8314\n",
      "Epoch 33/90\n",
      "6549/6549 [==============================] - 4s 577us/sample - loss: 0.1934 - accuracy: 0.9369 - val_loss: 0.9340 - val_accuracy: 0.8200\n",
      "Epoch 34/90\n",
      "6549/6549 [==============================] - 4s 584us/sample - loss: 0.1855 - accuracy: 0.9386 - val_loss: 0.8307 - val_accuracy: 0.8246\n",
      "Epoch 35/90\n",
      "6549/6549 [==============================] - 4s 570us/sample - loss: 0.1894 - accuracy: 0.9389 - val_loss: 0.8852 - val_accuracy: 0.8145\n",
      "Epoch 36/90\n",
      "6549/6549 [==============================] - 4s 569us/sample - loss: 0.1533 - accuracy: 0.9473 - val_loss: 0.8442 - val_accuracy: 0.8323\n",
      "Epoch 37/90\n",
      "6549/6549 [==============================] - 4s 572us/sample - loss: 0.1647 - accuracy: 0.9435 - val_loss: 0.8753 - val_accuracy: 0.8287\n",
      "Epoch 38/90\n",
      "6549/6549 [==============================] - 4s 557us/sample - loss: 0.1853 - accuracy: 0.9383 - val_loss: 0.9185 - val_accuracy: 0.8232\n",
      "Epoch 39/90\n",
      "6549/6549 [==============================] - 4s 577us/sample - loss: 0.1758 - accuracy: 0.9418 - val_loss: 0.8009 - val_accuracy: 0.8342\n",
      "Epoch 40/90\n",
      "6549/6549 [==============================] - 4s 563us/sample - loss: 0.1540 - accuracy: 0.9493 - val_loss: 0.7916 - val_accuracy: 0.8420\n",
      "Epoch 41/90\n",
      "6549/6549 [==============================] - 4s 561us/sample - loss: 0.1561 - accuracy: 0.9493 - val_loss: 0.8379 - val_accuracy: 0.8333\n",
      "Epoch 42/90\n",
      "6549/6549 [==============================] - 4s 577us/sample - loss: 0.1493 - accuracy: 0.9505 - val_loss: 0.8450 - val_accuracy: 0.8406\n",
      "Epoch 43/90\n",
      "6549/6549 [==============================] - 4s 565us/sample - loss: 0.1442 - accuracy: 0.9508 - val_loss: 0.8902 - val_accuracy: 0.8305\n",
      "Epoch 44/90\n",
      "6549/6549 [==============================] - 4s 565us/sample - loss: 0.1331 - accuracy: 0.9560 - val_loss: 0.7959 - val_accuracy: 0.8433\n",
      "Epoch 45/90\n",
      "6549/6549 [==============================] - 4s 561us/sample - loss: 0.1320 - accuracy: 0.9528 - val_loss: 0.8642 - val_accuracy: 0.8282\n",
      "Epoch 46/90\n",
      "6549/6549 [==============================] - 4s 644us/sample - loss: 0.1233 - accuracy: 0.9585 - val_loss: 0.8956 - val_accuracy: 0.8351\n",
      "Epoch 47/90\n",
      "6549/6549 [==============================] - 5s 805us/sample - loss: 0.1496 - accuracy: 0.9495 - val_loss: 0.8477 - val_accuracy: 0.8365\n",
      "Epoch 48/90\n",
      "6549/6549 [==============================] - 5s 731us/sample - loss: 0.1280 - accuracy: 0.9589 - val_loss: 0.8463 - val_accuracy: 0.8365\n",
      "Epoch 49/90\n",
      "6549/6549 [==============================] - 4s 587us/sample - loss: 0.1282 - accuracy: 0.9560 - val_loss: 0.8453 - val_accuracy: 0.8323\n",
      "Epoch 50/90\n",
      "6549/6549 [==============================] - 4s 602us/sample - loss: 0.1222 - accuracy: 0.9594 - val_loss: 0.7926 - val_accuracy: 0.8433\n",
      "Epoch 51/90\n",
      "6549/6549 [==============================] - 4s 607us/sample - loss: 0.1098 - accuracy: 0.9647 - val_loss: 0.7859 - val_accuracy: 0.8488\n",
      "Epoch 52/90\n",
      "6549/6549 [==============================] - 4s 594us/sample - loss: 0.0970 - accuracy: 0.9666 - val_loss: 0.8414 - val_accuracy: 0.8470\n",
      "Epoch 53/90\n",
      "6549/6549 [==============================] - 4s 587us/sample - loss: 0.1093 - accuracy: 0.9623 - val_loss: 0.8275 - val_accuracy: 0.8433\n",
      "Epoch 54/90\n",
      "6549/6549 [==============================] - 4s 600us/sample - loss: 0.1052 - accuracy: 0.9637 - val_loss: 0.9002 - val_accuracy: 0.8465\n",
      "Epoch 55/90\n",
      "6549/6549 [==============================] - 4s 590us/sample - loss: 0.1100 - accuracy: 0.9629 - val_loss: 0.8254 - val_accuracy: 0.8465\n",
      "Epoch 56/90\n",
      "6549/6549 [==============================] - 4s 592us/sample - loss: 0.1131 - accuracy: 0.9623 - val_loss: 0.8209 - val_accuracy: 0.8465\n",
      "Epoch 57/90\n",
      "6549/6549 [==============================] - 4s 591us/sample - loss: 0.0999 - accuracy: 0.9652 - val_loss: 0.8088 - val_accuracy: 0.8557\n",
      "Epoch 58/90\n",
      "6549/6549 [==============================] - 4s 611us/sample - loss: 0.0961 - accuracy: 0.9667 - val_loss: 0.8088 - val_accuracy: 0.8507\n",
      "Epoch 59/90\n",
      "6549/6549 [==============================] - 4s 595us/sample - loss: 0.1008 - accuracy: 0.9659 - val_loss: 0.8551 - val_accuracy: 0.8511\n",
      "Epoch 60/90\n",
      "6549/6549 [==============================] - 4s 591us/sample - loss: 0.0877 - accuracy: 0.9705 - val_loss: 0.8664 - val_accuracy: 0.8534\n",
      "Epoch 61/90\n",
      "6549/6549 [==============================] - 4s 591us/sample - loss: 0.0864 - accuracy: 0.9699 - val_loss: 0.8313 - val_accuracy: 0.8424\n",
      "Epoch 62/90\n",
      "6549/6549 [==============================] - 4s 585us/sample - loss: 0.0989 - accuracy: 0.9658 - val_loss: 0.9158 - val_accuracy: 0.8484\n",
      "Epoch 63/90\n",
      "6549/6549 [==============================] - 4s 594us/sample - loss: 0.0932 - accuracy: 0.9689 - val_loss: 0.8848 - val_accuracy: 0.8429\n",
      "Epoch 64/90\n",
      "6549/6549 [==============================] - 4s 579us/sample - loss: 0.0897 - accuracy: 0.9681 - val_loss: 0.9416 - val_accuracy: 0.8296\n",
      "Epoch 65/90\n",
      "6549/6549 [==============================] - 4s 600us/sample - loss: 0.0874 - accuracy: 0.9713 - val_loss: 0.9019 - val_accuracy: 0.8447\n",
      "Epoch 66/90\n",
      "6549/6549 [==============================] - 4s 599us/sample - loss: 0.0946 - accuracy: 0.9690 - val_loss: 0.9454 - val_accuracy: 0.8420\n",
      "Epoch 67/90\n",
      "6549/6549 [==============================] - 4s 600us/sample - loss: 0.0927 - accuracy: 0.9679 - val_loss: 0.9599 - val_accuracy: 0.8374\n",
      "Epoch 68/90\n",
      "6549/6549 [==============================] - 4s 592us/sample - loss: 0.0921 - accuracy: 0.9687 - val_loss: 1.0187 - val_accuracy: 0.8282\n",
      "Epoch 69/90\n",
      "6549/6549 [==============================] - 4s 581us/sample - loss: 0.0741 - accuracy: 0.9743 - val_loss: 0.8267 - val_accuracy: 0.8497\n",
      "Epoch 70/90\n",
      "6549/6549 [==============================] - 4s 581us/sample - loss: 0.0695 - accuracy: 0.9760 - val_loss: 0.8812 - val_accuracy: 0.8479\n",
      "Epoch 71/90\n",
      "6549/6549 [==============================] - 4s 592us/sample - loss: 0.0637 - accuracy: 0.9792 - val_loss: 0.8442 - val_accuracy: 0.8557\n",
      "Epoch 72/90\n",
      "6549/6549 [==============================] - 4s 595us/sample - loss: 0.0627 - accuracy: 0.9800 - val_loss: 0.8813 - val_accuracy: 0.8548\n",
      "Epoch 73/90\n",
      "6549/6549 [==============================] - 4s 598us/sample - loss: 0.0576 - accuracy: 0.9814 - val_loss: 0.8488 - val_accuracy: 0.8557\n",
      "Epoch 74/90\n",
      "6549/6549 [==============================] - 4s 623us/sample - loss: 0.0566 - accuracy: 0.9820 - val_loss: 0.8798 - val_accuracy: 0.8479\n",
      "Epoch 75/90\n",
      "6549/6549 [==============================] - 4s 598us/sample - loss: 0.0598 - accuracy: 0.9797 - val_loss: 0.8948 - val_accuracy: 0.8534\n",
      "Epoch 76/90\n",
      "6549/6549 [==============================] - 4s 600us/sample - loss: 0.0802 - accuracy: 0.9730 - val_loss: 0.8565 - val_accuracy: 0.8530\n",
      "Epoch 77/90\n",
      "6549/6549 [==============================] - 4s 653us/sample - loss: 0.0798 - accuracy: 0.9737 - val_loss: 0.9478 - val_accuracy: 0.8585\n",
      "Epoch 78/90\n",
      "6549/6549 [==============================] - 4s 677us/sample - loss: 0.0884 - accuracy: 0.9727 - val_loss: 0.9195 - val_accuracy: 0.8539\n",
      "Epoch 79/90\n",
      "6549/6549 [==============================] - 4s 626us/sample - loss: 0.0713 - accuracy: 0.9771 - val_loss: 0.8949 - val_accuracy: 0.8621\n",
      "Epoch 80/90\n",
      "6549/6549 [==============================] - 4s 606us/sample - loss: 0.0580 - accuracy: 0.9786 - val_loss: 0.8944 - val_accuracy: 0.8607\n",
      "Epoch 81/90\n",
      "6549/6549 [==============================] - 4s 595us/sample - loss: 0.0640 - accuracy: 0.9789 - val_loss: 0.8568 - val_accuracy: 0.8539\n",
      "Epoch 82/90\n",
      "6549/6549 [==============================] - 4s 604us/sample - loss: 0.0848 - accuracy: 0.9718 - val_loss: 0.8685 - val_accuracy: 0.8534\n",
      "Epoch 83/90\n",
      "6549/6549 [==============================] - 4s 591us/sample - loss: 0.0656 - accuracy: 0.9769 - val_loss: 0.7958 - val_accuracy: 0.8603\n",
      "Epoch 84/90\n",
      "6549/6549 [==============================] - 4s 605us/sample - loss: 0.0577 - accuracy: 0.9806 - val_loss: 0.8765 - val_accuracy: 0.8548\n",
      "Epoch 85/90\n",
      "6549/6549 [==============================] - 4s 580us/sample - loss: 0.0601 - accuracy: 0.9808 - val_loss: 0.8810 - val_accuracy: 0.8557\n",
      "Epoch 86/90\n",
      "6549/6549 [==============================] - 4s 588us/sample - loss: 0.0598 - accuracy: 0.9800 - val_loss: 0.7950 - val_accuracy: 0.8580\n",
      "Epoch 87/90\n",
      "6549/6549 [==============================] - 4s 600us/sample - loss: 0.0486 - accuracy: 0.9829 - val_loss: 0.8724 - val_accuracy: 0.8617\n",
      "Epoch 88/90\n",
      "6549/6549 [==============================] - 4s 583us/sample - loss: 0.0510 - accuracy: 0.9820 - val_loss: 0.8814 - val_accuracy: 0.8507\n",
      "Epoch 89/90\n",
      "6549/6549 [==============================] - 4s 603us/sample - loss: 0.0520 - accuracy: 0.9817 - val_loss: 0.8605 - val_accuracy: 0.8502\n",
      "Epoch 90/90\n",
      "6549/6549 [==============================] - 4s 597us/sample - loss: 0.0512 - accuracy: 0.9805 - val_loss: 0.7766 - val_accuracy: 0.8585\n"
     ]
    },
    {
     "data": {
      "text/plain": [
       "<tensorflow.python.keras.callbacks.History at 0x7f557ed89278>"
      ]
     },
     "execution_count": 23,
     "metadata": {},
     "output_type": "execute_result"
    }
   ],
   "source": [
    "model.fit(X_train, Y_train, epochs = 90, batch_size = 50, validation_data = (X_test, Y_test))"
   ]
  },
  {
   "cell_type": "code",
   "execution_count": 24,
   "metadata": {
    "execution": {
     "iopub.execute_input": "2022-10-06T19:30:55.091064Z",
     "iopub.status.busy": "2022-10-06T19:30:55.090722Z",
     "iopub.status.idle": "2022-10-06T19:30:55.098749Z",
     "shell.execute_reply": "2022-10-06T19:30:55.097980Z",
     "shell.execute_reply.started": "2022-10-06T19:30:55.091011Z"
    }
   },
   "outputs": [
    {
     "name": "stdout",
     "output_type": "stream",
     "text": [
      "Model: \"sequential\"\n",
      "_________________________________________________________________\n",
      "Layer (type)                 Output Shape              Param #   \n",
      "=================================================================\n",
      "conv2d (Conv2D)              (None, 16, 8, 64)         640       \n",
      "_________________________________________________________________\n",
      "max_pooling2d (MaxPooling2D) (None, 8, 4, 64)          0         \n",
      "_________________________________________________________________\n",
      "conv2d_1 (Conv2D)            (None, 8, 4, 128)         73856     \n",
      "_________________________________________________________________\n",
      "max_pooling2d_1 (MaxPooling2 (None, 4, 2, 128)         0         \n",
      "_________________________________________________________________\n",
      "dropout (Dropout)            (None, 4, 2, 128)         0         \n",
      "_________________________________________________________________\n",
      "flatten (Flatten)            (None, 1024)              0         \n",
      "_________________________________________________________________\n",
      "dense (Dense)                (None, 1024)              1049600   \n",
      "_________________________________________________________________\n",
      "dense_1 (Dense)              (None, 10)                10250     \n",
      "=================================================================\n",
      "Total params: 1,134,346\n",
      "Trainable params: 1,134,346\n",
      "Non-trainable params: 0\n",
      "_________________________________________________________________\n"
     ]
    }
   ],
   "source": [
    "model.summary()"
   ]
  },
  {
   "cell_type": "code",
   "execution_count": 25,
   "metadata": {
    "execution": {
     "iopub.execute_input": "2022-10-06T19:30:55.100584Z",
     "iopub.status.busy": "2022-10-06T19:30:55.100300Z",
     "iopub.status.idle": "2022-10-06T19:30:56.085929Z",
     "shell.execute_reply": "2022-10-06T19:30:56.084946Z",
     "shell.execute_reply.started": "2022-10-06T19:30:55.100533Z"
    }
   },
   "outputs": [
    {
     "name": "stdout",
     "output_type": "stream",
     "text": [
      "2183/2183 [==============================] - 0s 213us/sample - loss: 0.7766 - accuracy: 0.8585\n",
      "[0.7766360661276862, 0.85845166]\n"
     ]
    }
   ],
   "source": [
    "predictions = model.predict(X_test)\n",
    "score = model.evaluate(X_test, Y_test)\n",
    "print(score)"
   ]
  },
  {
   "cell_type": "code",
   "execution_count": 26,
   "metadata": {
    "execution": {
     "iopub.execute_input": "2022-10-06T19:30:56.087522Z",
     "iopub.status.busy": "2022-10-06T19:30:56.087261Z",
     "iopub.status.idle": "2022-10-06T19:30:56.093828Z",
     "shell.execute_reply": "2022-10-06T19:30:56.092443Z",
     "shell.execute_reply.started": "2022-10-06T19:30:56.087490Z"
    }
   },
   "outputs": [],
   "source": [
    "preds = np.argmax(predictions, axis = 1)"
   ]
  },
  {
   "cell_type": "code",
   "execution_count": 27,
   "metadata": {
    "execution": {
     "iopub.execute_input": "2022-10-06T19:30:56.095581Z",
     "iopub.status.busy": "2022-10-06T19:30:56.095288Z",
     "iopub.status.idle": "2022-10-06T19:30:56.341289Z",
     "shell.execute_reply": "2022-10-06T19:30:56.340248Z",
     "shell.execute_reply.started": "2022-10-06T19:30:56.095504Z"
    }
   },
   "outputs": [],
   "source": [
    "result = pd.DataFrame(preds)\n",
    "result.to_csv(\"UrbanSound8kResults.csv\")"
   ]
  }
 ],
 "metadata": {
  "kernelspec": {
   "display_name": "Python 3 (ipykernel)",
   "language": "python",
   "name": "python3"
  },
  "language_info": {
   "codemirror_mode": {
    "name": "ipython",
    "version": 3
   },
   "file_extension": ".py",
   "mimetype": "text/x-python",
   "name": "python",
   "nbconvert_exporter": "python",
   "pygments_lexer": "ipython3",
   "version": "3.9.12"
  }
 },
 "nbformat": 4,
 "nbformat_minor": 4
}
